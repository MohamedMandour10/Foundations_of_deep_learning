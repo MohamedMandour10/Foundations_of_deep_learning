{
  "nbformat": 4,
  "nbformat_minor": 0,
  "metadata": {
    "colab": {
      "provenance": []
    },
    "kernelspec": {
      "name": "python3",
      "display_name": "Python 3"
    },
    "language_info": {
      "name": "python"
    },
    "accelerator": "GPU",
    "gpuClass": "standard"
  },
  "cells": [
    {
      "cell_type": "markdown",
      "source": [
        "# Generation of data-set"
      ],
      "metadata": {
        "id": "2lvVFXUyjf9B"
      }
    },
    {
      "cell_type": "code",
      "execution_count": null,
      "metadata": {
        "id": "eDCGkjbdja-G",
        "outputId": "61513d55-f851-438b-fd6a-235935b2a55c",
        "colab": {
          "base_uri": "https://localhost:8080/"
        }
      },
      "outputs": [
        {
          "output_type": "stream",
          "name": "stdout",
          "text": [
            "[1.622901694889702, 1.7417869892607294, 1.7951935655656968, 1.9424502837770503, 1.7398985747399307, 1.922324996665417, 1.0290052282836148, 1.4656226543781052, 1.9433567169983137, 1.6489745531369242]\n",
            "[1.8713187027692235, 1.0397677125483866, 1.588855165328111, 1.1174537421211483, 1.721120830858009, 1.6113236281477743, 1.6120458139259322, 1.221521299603685, 1.9490212551961823, 1.1110249512327846]\n",
            "[1.622901694889702, 1.7417869892607294, 1.7951935655656968, 1.9424502837770503, 1.7398985747399307, 1.922324996665417, 1.0290052282836148, 1.4656226543781052, 1.9433567169983137, 1.6489745531369242]\n",
            "[1.8713187027692235, 1.0397677125483866, 1.588855165328111, 1.1174537421211483, 1.721120830858009, 1.6113236281477743, 1.6120458139259322, 1.221521299603685, 1.9490212551961823, 1.1110249512327846]\n"
          ]
        }
      ],
      "source": [
        "from random import Random\n",
        "'''\n",
        "This Python function named generate_num generates two lists of random numbers lst_x and lst_y with N elements each.\n",
        "The N parameter sets the number of elements in each list, and its default value is 1000.\n",
        "\n",
        "The function uses the Random() class from the random module to generate random numbers. \n",
        "It initializes a Random object with a seed value of 5.\n",
        "\n",
        "Inside the function, two empty lists lst_x and lst_y are created to store the random numbers. \n",
        "Two for loops are used to append N random numbers in the range between 1 and 2 (exclusive) to lst_x and lst_y, \n",
        "respectively, using the uniform() method of the Random object.\n",
        "'''\n",
        "def generate_num(N=1000):\n",
        "  SEED = 5\n",
        "  random_num = Random(x=SEED)\n",
        "  lst_x, lst_y = [],[]\n",
        "  for _ in range(N):\n",
        "    lst_x.append(random_num.uniform(a=1,b=2))\n",
        "  for _ in range(N):\n",
        "    lst_y.append(random_num.uniform(a=1,b=2))\n",
        "  return lst_x, lst_y\n",
        "data_x, data_y =generate_num()\n",
        "print(data_x[:10])\n",
        "print(data_y[:10])\n",
        "\n",
        "# LIST COMPREHENSION\n",
        "'''\n",
        "This is a refactored version of the previous generate_num function. \n",
        "It also generates two lists of random numbers lst_x and lst_y with N elements each, \n",
        "where N is the number of elements in each list, and its default value is 1000.\n",
        "\n",
        "Like the previous function, it uses the Random() class from the random module to generate random numbers, \n",
        "and initializes a Random object with a seed value of 5.\n",
        "\n",
        "However, instead of using two for loops to append random numbers to the two lists, \n",
        "this refactored version uses list comprehension to generate the two lists of random numbers in a more concise and efficient way. \n",
        "It creates two lists by calling random_num.uniform(a=1,b=2) N times for each list, and returns them as a tuple.\n",
        "\n",
        "Overall, this refactored version of the function generates the same output as the previous function, \n",
        "but with a more compact and pythonic syntax.\n",
        "'''\n",
        "def comp_generate_num(N=1000):\n",
        "  SEED = 5\n",
        "  random_num = Random(x=SEED)\n",
        "  return(\n",
        "      [random_num.uniform(a=1,b=2)\n",
        "      for _ in range(N)],\n",
        "      [random_num.uniform(a=1,b=2)\n",
        "      for _ in range(N)]\n",
        "  )\n",
        "data_x, data_y = comp_generate_num()\n",
        "print(data_x[:10])\n",
        "print(data_y[:10])\n"
      ]
    },
    {
      "cell_type": "markdown",
      "source": [
        "# Visualising data"
      ],
      "metadata": {
        "id": "Ouv3_hzCxQrY"
      }
    },
    {
      "cell_type": "code",
      "source": [
        "'''\n",
        "First, it imports the figure module from matplotlib.\n",
        "pyplot and creates a new figure object fig with a size of 10 by 10 inches using figure(figsize=(10,10)).\n",
        "\n",
        "Next, it adds a subplot to the figure using fig.add_subplot(1,1,1). \n",
        "This creates a single subplot in the figure, with the first argument 1 representing the number of rows, \n",
        "the second argument 1 representing the number of columns, and the third argument 1 representing the index of the subplot.\n",
        "\n",
        "Then, it creates a scatter plot on the subplot using ax.scatter(x=data_x , y= data_y, marker = \".\" ). \n",
        "The x and y arguments are the data points to be plotted on the x-axis and y-axis respectively, \n",
        "and marker specifies the marker style for the scatter plot.\n",
        "\n",
        "After that, it sets the limits for the x and y axes using ax.set_xlim(left = 0, right= 3) and ax.set_ylim(top = 0, bottom= 3), \n",
        "limiting the range from 0 to 3 for both axes.\n",
        "'''\n",
        "from matplotlib.pyplot import figure\n",
        "fig= figure(figsize=(10,10))\n",
        "ax = fig.add_subplot(1,1,1)\n",
        "ax.scatter(x=data_x , y= data_y, marker = \".\" )\n",
        "ax.set_xlim(left = 0, right= 3)\n",
        "ax.set_ylim(top = 0, bottom= 3)\n",
        "fig.show"
      ],
      "metadata": {
        "id": "ujKtS3GaxPjx",
        "colab": {
          "base_uri": "https://localhost:8080/",
          "height": 613
        },
        "outputId": "31731d51-ef21-4030-8b87-8672a1f83b5a"
      },
      "execution_count": null,
      "outputs": [
        {
          "output_type": "execute_result",
          "data": {
            "text/plain": [
              "<bound method Figure.show of <Figure size 720x720 with 1 Axes>>"
            ]
          },
          "metadata": {},
          "execution_count": 2
        },
        {
          "output_type": "display_data",
          "data": {
            "text/plain": [
              "<Figure size 720x720 with 1 Axes>"
            ],
            "image/png": "[encoded data removed]"
          },
          "metadata": {
            "needs_background": "light"
          }
        }
      ]
    },
    {
      "cell_type": "markdown",
      "source": [
        "# The loss function\n",
        "Let:\n",
        "- The solution: ($x_{p}$, $y_{p}$)\n",
        "- The dataset $\\mathbb{D}$ is a {($x_{i}$, $y_{i}$)}\n",
        "- $\\mathbb{L}$ be the loss function and the solution be\n",
        "$$(x_{p}, y_{p}) = argmin(\\mathbb{L})$$\n",
        "<br>\n",
        "$$where\\;\\mathbb{L} = \\frac{1}{N} \\sum_{i=0}^{N-1}[(x_{i} - x_{p})^{2} + (y_{i} - y_{p})^{2}]^{\\frac{1}{2}}$$"
      ],
      "metadata": {
        "id": "Nm42IWlT7Y92"
      }
    },
    {
      "cell_type": "markdown",
      "source": [
        "# Evaluation of loss function"
      ],
      "metadata": {
        "id": "a47jXkZp7dcW"
      }
    },
    {
      "cell_type": "code",
      "source": [
        "'''\n",
        "Inside the function, it calculates the loss value based on the Euclidean distance between the point (x_p, y_p) and each point in a dataset,\n",
        "represented by data_x and data_y. \n",
        "It uses the zip function to iterate over the two datasets simultaneously and calculate the distance between each point and (x_p, y_p).\n",
        "'''\n",
        "from math import sqrt as root\n",
        "def loss(x_p, y_p):\n",
        "  return (1/len(data_y))* sum([root((x_i-x_p)**2+(y_i-y_p)**2) for x_i , y_i in zip(data_x, data_y)])\n",
        "print(loss(0.5,0.5))"
      ],
      "metadata": {
        "id": "SjGrlCgSrjvG",
        "colab": {
          "base_uri": "https://localhost:8080/"
        },
        "outputId": "7bb2d170-7f4c-4eb7-afe8-c13d432db17b"
      },
      "execution_count": null,
      "outputs": [
        {
          "output_type": "stream",
          "name": "stdout",
          "text": [
            "1.4330454296351365\n"
          ]
        }
      ]
    },
    {
      "cell_type": "markdown",
      "source": [
        "# Visualising loss function"
      ],
      "metadata": {
        "id": "mTt4uPYr9cXo"
      }
    },
    {
      "cell_type": "code",
      "source": [
        "STEP = 0.01\n",
        "MESH_SIZE = 300\n",
        "x_mesh = [0 + i* STEP for i in range(MESH_SIZE)]\n",
        "y_mesh = [0 + i* STEP for i in range(MESH_SIZE)]\n",
        "z_mesh = [\n",
        "    [loss(x_curr, y_curr) for x_curr in x_mesh]\n",
        "          for y_curr in y_mesh\n",
        "          ]"
      ],
      "metadata": {
        "id": "GRXQZwQs9i9W"
      },
      "execution_count": null,
      "outputs": []
    },
    {
      "cell_type": "code",
      "source": [
        "from matplotlib.figure import projections\n",
        "fig_2 = figure(figsize=(20,20))\n",
        "\n",
        "#intialise place of plot\n",
        "ax_new = fig_2.add_subplot(2,2,1, projection = \"3d\")\n",
        "ax_new2 = fig_2.add_subplot(2,2,2, projection = \"3d\")\n",
        "ax_new3 = fig_2.add_subplot(2,2,3, projection = \"3d\")\n",
        "ax_new4 = fig_2.add_subplot(2,2,4, projection = \"3d\")\n",
        "\n",
        "#defining contour \"mesh(x,y,z)\" and levels \"specifies the number of contour lines to be drawn\"\n",
        "ax_new.contour(x_mesh,y_mesh,z_mesh)\n",
        "ax_new2.contour(x_mesh,y_mesh,z_mesh, levels =500)\n",
        "ax_new3.contour(x_mesh,y_mesh,z_mesh, levels =500)\n",
        "ax_new4.contour(x_mesh,y_mesh,z_mesh, levels =500)\n",
        "\n",
        "#changing rotion of plot\n",
        "ax_new3.view_init(elev = 270)\n",
        "ax_new4.view_init(elev = 60)\n",
        "\n",
        "fig_2.show()\n",
        "\n"
      ],
      "metadata": {
        "id": "xd_31RKFXdQt"
      },
      "execution_count": null,
      "outputs": []
    },
    {
      "cell_type": "markdown",
      "metadata": {
        "id": "4e64a74b"
      },
      "source": [
        "# Numeric Method of Derivatives\n",
        "It comes for the main definition of the derivative\n",
        "<br><br>\n",
        "$\\frac{\\partial \\mathbb{L}}{\\partial x} = \\lim_{h \\to 0} \\frac{\\mathbb{L}(x+h) - \\mathbb{L}(x)}{h}$\n",
        "<br><br>\n",
        "By replacing the asymptotically infinitesimal by pragmatically small of values we can get a definition of deriviative that can be numerically computed "
      ]
    },
    {
      "cell_type": "code",
      "source": [
        "x_p , y_p = 2,2\n",
        "EPOCHS =1000\n",
        "DELTA = 0.01\n",
        "H = 0.001\n",
        "losses = []\n",
        "'''\n",
        "First, it initializes the coordinates of the starting point (x_p, y_p) to be (2, 2), the number of epochs to be 1000, the learning rate DELTA to be 0.01, and the step size H to be 0.001. \n",
        "It also initializes an empty list losses to store the loss values for each epoch.\n",
        "\n",
        "Then, it enters a loop that runs for EPOCHS times. In each epoch, it calculates the current loss value using loss(x_p,y_p) and appends it to the losses list.\n",
        "\n",
        "Next, it calculates the partial derivatives of the loss function with respect to x and y at the current point (x_p, y_p) using the finite difference method. \n",
        "It calculates dl_dx by subtracting the loss at (x_p + H, y_p) from the current loss value and dividing by H. \n",
        "It calculates dl_dy similarly by subtracting the loss at (x_p, y_p + H) from the current loss value and dividing by H.\n",
        "\n",
        "After that, it updates the values of x_p and y_p using the gradient descent update rule. It subtracts DELTA * dl_dx from x_p and subtracts DELTA * dl_dy from y_p.\n",
        "'''\n",
        "for _ in range(EPOCHS):\n",
        "  losses.append(loss(x_p,y_p))\n",
        "  dl_dx = (loss(x_p + H , y_p) - loss(x_p,y_p)) /H\n",
        "  dl_dy = ( loss(x_p  , y_p + H) - loss(x_p,y_p) ) /H\n",
        "  x_p -= DELTA *dl_dx\n",
        "  y_p -= DELTA *dl_dy\n",
        "\n",
        "fig = figure(figsize=(10,10))\n",
        "ax = fig.add_subplot(1,1,1)\n",
        "ax.plot(losses)\n",
        "fig.show"
      ],
      "metadata": {
        "colab": {
          "base_uri": "https://localhost:8080/",
          "height": 609
        },
        "id": "MZrvIwyEFead",
        "outputId": "805ac94b-49e0-4583-8d80-67d0e6cc9fc8"
      },
      "execution_count": null,
      "outputs": [
        {
          "output_type": "execute_result",
          "data": {
            "text/plain": [
              "<bound method Figure.show of <Figure size 720x720 with 1 Axes>>"
            ]
          },
          "metadata": {},
          "execution_count": 6
        },
        {
          "output_type": "display_data",
          "data": {
            "text/plain": [
              "<Figure size 720x720 with 1 Axes>"
            ],
            "image/png": "[encoded data removed]"
          },
          "metadata": {
            "needs_background": "light"
          }
        }
      ]
    },
    {
      "cell_type": "code",
      "source": [
        "from pickle import NONE\n",
        "x_p , y_p = 2,2\n",
        "EPOCHS =3000\n",
        "DELTA = 0.01\n",
        "H = 0.001\n",
        "losses = []\n",
        "for _ in range(EPOCHS):\n",
        "  losses.append(loss(x_p,y_p))\n",
        "  dl_dx = (loss(x_p + H , y_p) - loss(x_p,y_p)) /H\n",
        "  dl_dy = ( loss(x_p  , y_p + H) - loss(x_p,y_p) ) /H\n",
        "  x_p -= DELTA *dl_dx\n",
        "  y_p -= DELTA *dl_dy\n",
        "\n",
        "fig = figure(figsize=(10,10))\n",
        "ax = fig.add_subplot(1,1,1)\n",
        "ax.plot(losses)\n",
        "fig.show"
      ],
      "metadata": {
        "colab": {
          "base_uri": "https://localhost:8080/",
          "height": 609
        },
        "id": "xEYX7cD3KAhH",
        "outputId": "6d0a5a54-d1e6-4c09-cf9b-a073d3f59d7c"
      },
      "execution_count": null,
      "outputs": [
        {
          "output_type": "execute_result",
          "data": {
            "text/plain": [
              "<bound method Figure.show of <Figure size 720x720 with 1 Axes>>"
            ]
          },
          "metadata": {},
          "execution_count": 7
        },
        {
          "output_type": "display_data",
          "data": {
            "text/plain": [
              "<Figure size 720x720 with 1 Axes>"
            ],
            "image/png": "[encoded data removed]"
          },
          "metadata": {
            "needs_background": "light"
          }
        }
      ]
    }
  ]
}